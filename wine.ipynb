
{
 "cells": [
  {
   "cell_type": "markdown",
   "id": "e4575fdc",
   "metadata": {},
   "source": [
    "# Wine"
   ]
  },
  {
   "cell_type": "code",
   "execution_count": 3,
   "id": "2f782796",
   "metadata": {},
   "outputs": [
    {
     "name": "stdout",
     "output_type": "stream",
     "text": [
      "dict_keys(['data', 'target', 'frame', 'target_names', 'DESCR', 'feature_names'])\n",
      "[[1.423e+01 1.710e+00 2.430e+00 ... 1.040e+00 3.920e+00 1.065e+03]\n",
      " [1.320e+01 1.780e+00 2.140e+00 ... 1.050e+00 3.400e+00 1.050e+03]\n",
      " [1.316e+01 2.360e+00 2.670e+00 ... 1.030e+00 3.170e+00 1.185e+03]\n",
      " ...\n",
      " [1.327e+01 4.280e+00 2.260e+00 ... 5.900e-01 1.560e+00 8.350e+02]\n",
      " [1.317e+01 2.590e+00 2.370e+00 ... 6.000e-01 1.620e+00 8.400e+02]\n",
      " [1.413e+01 4.100e+00 2.740e+00 ... 6.100e-01 1.600e+00 5.600e+02]]\n",
      "['alcohol', 'malic_acid', 'ash', 'alcalinity_of_ash', 'magnesium', 'total_phenols', 'flavanoids', 'nonflavanoid_phenols', 'proanthocyanins', 'color_intensity', 'hue', 'od280/od315_of_diluted_wines', 'proline']\n",
      "['class_0' 'class_1' 'class_2']\n"
     ]
    }
   ],
   "source": [
    "#module import\n",
    "from sklearn.datasets import load_wine\n",
    "from sklearn.model_selection import train_test_split\n",
    "from sklearn.metrics import classification_report\n",
    "from sklearn.tree import DecisionTreeClassifier\n",
    "from sklearn.ensemble import RandomForestClassifier\n",
    "from sklearn import svm\n",
    "from sklearn.linear_model import SGDClassifier\n",
    "from sklearn.linear_model import LogisticRegression\n",
    "\n",
    "#loading data and check columns\n",
    "wines = load_wine()\n",
    "print(wines.keys())\n",
    "print(wines['data'])\n",
    "print(wines['feature_names'])\n",
    "print(wines['target_names'])"
   ]
  },
  {
   "cell_type": "code",
   "execution_count": 17,
   "id": "481bdbea",
   "metadata": {},
   "outputs": [
    {
     "name": "stdout",
     "output_type": "stream",
     "text": [
      "[[1.423e+01 1.710e+00 2.430e+00 ... 1.040e+00 3.920e+00 1.065e+03]\n",
      " [1.320e+01 1.780e+00 2.140e+00 ... 1.050e+00 3.400e+00 1.050e+03]\n",
      " [1.316e+01 2.360e+00 2.670e+00 ... 1.030e+00 3.170e+00 1.185e+03]\n",
      " ...\n",
      " [1.327e+01 4.280e+00 2.260e+00 ... 5.900e-01 1.560e+00 8.350e+02]\n",
      " [1.317e+01 2.590e+00 2.370e+00 ... 6.000e-01 1.620e+00 8.400e+02]\n",
      " [1.413e+01 4.100e+00 2.740e+00 ... 6.100e-01 1.600e+00 5.600e+02]]\n",
      "[0 0 0 0 0 0 0 0 0 0 0 0 0 0 0 0 0 0 0 0 0 0 0 0 0 0 0 0 0 0 0 0 0 0 0 0 0\n",
      " 0 0 0 0 0 0 0 0 0 0 0 0 0 0 0 0 0 0 0 0 0 0 1 1 1 1 1 1 1 1 1 1 1 1 1 1 1\n",
      " 1 1 1 1 1 1 1 1 1 1 1 1 1 1 1 1 1 1 1 1 1 1 1 1 1 1 1 1 1 1 1 1 1 1 1 1 1\n",
      " 1 1 1 1 1 1 1 1 1 1 1 1 1 1 1 1 1 1 1 2 2 2 2 2 2 2 2 2 2 2 2 2 2 2 2 2 2\n",
      " 2 2 2 2 2 2 2 2 2 2 2 2 2 2 2 2 2 2 2 2 2 2 2 2 2 2 2 2 2 2]\n"
     ]
    }
   ],
   "source": [
    "#sepearting fearture with target\n",
    "wine_data = wines['data']\n",
    "wine_target = wines['target']\n",
    "print(wine_data)\n",
    "print(wine_target)"
   ]
  },
  {
   "cell_type": "code",
   "execution_count": 18,
   "id": "759a6186",
   "metadata": {},
   "outputs": [],
   "source": [
    "#spliting train data and test data\n",
    "train_feature, test_feature, train_target, test_target = train_test_split(wine_data, \n",
    "                                                                          wine_target, \n",
    "                                                                          test_size=0.3, \n",
    "                                                                          random_state=5)"
   ]
  },
  {
   "cell_type": "code",
   "execution_count": 20,
   "id": "3678602c",
   "metadata": {},
   "outputs": [
    {
     "name": "stdout",
     "output_type": "stream",
     "text": [
      "              precision    recall  f1-score   support\n",
      "\n",
      "           0       0.95      0.91      0.93        23\n",
      "           1       0.89      0.89      0.89        18\n",
      "           2       0.93      1.00      0.96        13\n",
      "\n",
      "    accuracy                           0.93        54\n",
      "   macro avg       0.92      0.93      0.93        54\n",
      "weighted avg       0.93      0.93      0.93        54\n",
      "\n"
     ]
    }
   ],
   "source": [
    "#testing for Decision-Tree Learning\n",
    "dct = DecisionTreeClassifier(random_state=100)\n",
    "dct.fit(train_feature, train_target)\n",
    "dct_predict = dct.predict(test_feature)\n",
    "print(classification_report(test_target, dct_predict))"
   ]
  },
  {
   "cell_type": "code",
   "execution_count": 21,
   "id": "f2c504c5",
   "metadata": {},
   "outputs": [
    {
     "name": "stdout",
     "output_type": "stream",
     "text": [
      "              precision    recall  f1-score   support\n",
      "\n",
      "           0       1.00      1.00      1.00        23\n",
      "           1       1.00      0.94      0.97        18\n",
      "           2       0.93      1.00      0.96        13\n",
      "\n",
      "    accuracy                           0.98        54\n",
      "   macro avg       0.98      0.98      0.98        54\n",
      "weighted avg       0.98      0.98      0.98        54\n",
      "\n"
     ]
    }
   ],
   "source": [
    "#testing for Random Forest\n",
    "rdf = RandomForestClassifier(random_state=100)\n",
    "rdf.fit(train_feature, train_target)\n",
    "rdf_predict = rdf.predict(test_feature)\n",
    "print(classification_report(test_target, rdf_predict))"
   ]
  },
  {
   "cell_type": "code",
   "execution_count": 22,
   "id": "44bb5934",
   "metadata": {},
   "outputs": [
    {
     "name": "stdout",
     "output_type": "stream",
     "text": [
      "              precision    recall  f1-score   support\n",
      "\n",
      "           0       0.89      0.74      0.81        23\n",
      "           1       0.60      0.83      0.70        18\n",
      "           2       0.40      0.31      0.35        13\n",
      "\n",
      "    accuracy                           0.67        54\n",
      "   macro avg       0.63      0.63      0.62        54\n",
      "weighted avg       0.68      0.67      0.66        54\n",
      "\n"
     ]
    }
   ],
   "source": [
    "#testing for Support Vector Machine\n",
    "sptvm = svm.SVC(random_state=100)\n",
    "sptvm.fit(train_feature, train_target)\n",
    "sptvm_predict = sptvm.predict(test_feature)\n",
    "print(classification_report(test_target, sptvm_predict))"
   ]
  },
  {
   "cell_type": "code",
   "execution_count": 9,
   "id": "028e6029",
   "metadata": {},
   "outputs": [
    {
     "name": "stdout",
     "output_type": "stream",
     "text": [
      "              precision    recall  f1-score   support\n",
      "\n",
      "           0       1.00      0.43      0.60        44\n",
      "           1       0.71      0.54      0.62        46\n",
      "           2       0.35      0.71      0.47        35\n",
      "\n",
      "    accuracy                           0.55       125\n",
      "   macro avg       0.69      0.56      0.56       125\n",
      "weighted avg       0.71      0.55      0.57       125\n",
      "\n"
     ]
    }
   ],
   "source": [
    "#testing for Stochastic Gradient Decent Classifier\n",
    "sgdc = SGDClassifier(random_state=100)\n",
    "sgdc.fit(train_feature, train_target)\n",
    "sgdc_predict = sgdc.predict(test_feature)\n",
    "print(classification_report(test_target, sgdc_predict))"
   ]
  },
  {
   "cell_type": "code",
   "execution_count": 23,
   "id": "5470de08",
   "metadata": {},
   "outputs": [
    {
     "name": "stdout",
     "output_type": "stream",
     "text": [
      "              precision    recall  f1-score   support\n",
      "\n",
      "           0       1.00      0.39      0.56        23\n",
      "           1       0.82      0.50      0.62        18\n",
      "           2       0.32      0.85      0.47        13\n",
      "\n",
      "    accuracy                           0.54        54\n",
      "   macro avg       0.71      0.58      0.55        54\n",
      "weighted avg       0.78      0.54      0.56        54\n",
      "\n"
     ]
    }
   ],
   "source": [
    "#testing for Logistic Regresssion\n",
    "lgr = LogisticRegression(random_state=100, max_iter=3000)\n",
    "lgr.fit(train_feature, train_target)\n",
    "lgr_predict = sgdc.predict(test_feature)\n",
    "print(classification_report(test_target, lgr_predict))"
   ]
  },
  {
   "cell_type": "markdown",
   "id": "c989f33a",
   "metadata": {},
   "source": [
    "# Conclusion\n",
    "scikit-learn의 와인데이터에 관해 5가지의 모델(Decision-Tree, Random Forest, Support Vector Machine, SGDC, Logistic Regression)으로 학습시켜 보았다.\n",
    "와인을 3가지의 class로 분류함에 있어 feature factor에 관해 얼마나 정확한 class를 찾아 낼 수 있는지가 가장 중요함으로 정밀도(precison)을 고려할 수 있다. 위 5가지의 모델링 결과 precison이 가장 높은 모델은 Random Forest이며, 0.98의 정밀도를 보였다."
   ]
  },
  {
   "cell_type": "code",
   "execution_count": null,
   "id": "37fe60a3",
   "metadata": {},
   "outputs": [],
   "source": []
  }
 ],
 "metadata": {
  "kernelspec": {
   "display_name": "Python 3 (ipykernel)",
   "language": "python",
   "name": "python3"
  },
  "language_info": {
   "codemirror_mode": {
    "name": "ipython",
    "version": 3
   },
   "file_extension": ".py",
   "mimetype": "text/x-python",
   "name": "python",
   "nbconvert_exporter": "python",
   "pygments_lexer": "ipython3",
   "version": "3.9.7"
  }
 },
 "nbformat": 4,
 "nbformat_minor": 5
}
