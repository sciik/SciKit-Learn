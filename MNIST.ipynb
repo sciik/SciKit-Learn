{
 "cells": [
  {
   "cell_type": "markdown",
   "id": "532e464f",
   "metadata": {},
   "source": [
    "# MNIST Testing"
   ]
  },
  {
   "cell_type": "code",
   "execution_count": 39,
   "id": "aad018d0",
   "metadata": {},
   "outputs": [
    {
     "name": "stdout",
     "output_type": "stream",
     "text": [
      "dict_keys(['data', 'target', 'frame', 'feature_names', 'target_names', 'images', 'DESCR'])\n",
      "[[ 0.  0.  5. ...  0.  0.  0.]\n",
      " [ 0.  0.  0. ... 10.  0.  0.]\n",
      " [ 0.  0.  0. ... 16.  9.  0.]\n",
      " ...\n",
      " [ 0.  0.  1. ...  6.  0.  0.]\n",
      " [ 0.  0.  2. ... 12.  0.  0.]\n",
      " [ 0.  0. 10. ... 12.  1.  0.]]\n",
      "['pixel_0_0', 'pixel_0_1', 'pixel_0_2', 'pixel_0_3', 'pixel_0_4', 'pixel_0_5', 'pixel_0_6', 'pixel_0_7', 'pixel_1_0', 'pixel_1_1', 'pixel_1_2', 'pixel_1_3', 'pixel_1_4', 'pixel_1_5', 'pixel_1_6', 'pixel_1_7', 'pixel_2_0', 'pixel_2_1', 'pixel_2_2', 'pixel_2_3', 'pixel_2_4', 'pixel_2_5', 'pixel_2_6', 'pixel_2_7', 'pixel_3_0', 'pixel_3_1', 'pixel_3_2', 'pixel_3_3', 'pixel_3_4', 'pixel_3_5', 'pixel_3_6', 'pixel_3_7', 'pixel_4_0', 'pixel_4_1', 'pixel_4_2', 'pixel_4_3', 'pixel_4_4', 'pixel_4_5', 'pixel_4_6', 'pixel_4_7', 'pixel_5_0', 'pixel_5_1', 'pixel_5_2', 'pixel_5_3', 'pixel_5_4', 'pixel_5_5', 'pixel_5_6', 'pixel_5_7', 'pixel_6_0', 'pixel_6_1', 'pixel_6_2', 'pixel_6_3', 'pixel_6_4', 'pixel_6_5', 'pixel_6_6', 'pixel_6_7', 'pixel_7_0', 'pixel_7_1', 'pixel_7_2', 'pixel_7_3', 'pixel_7_4', 'pixel_7_5', 'pixel_7_6', 'pixel_7_7']\n",
      "[0 1 2 3 4 5 6 7 8 9]\n"
     ]
    }
   ],
   "source": [
    "#module import\n",
    "from sklearn.datasets import load_digits\n",
    "from sklearn.model_selection import train_test_split\n",
    "from sklearn.metrics import classification_report\n",
    "from sklearn.tree import DecisionTreeClassifier\n",
    "from sklearn.ensemble import RandomForestClassifier\n",
    "from sklearn import svm\n",
    "from sklearn.linear_model import SGDClassifier\n",
    "from sklearn.linear_model import LogisticRegression\n",
    "\n",
    "#loading data and check columns\n",
    "digits = load_digits()\n",
    "print(digits.keys())\n",
    "print(digits['data'])\n",
    "print(digits['feature_names'])\n",
    "print(digits['target_names'])\n"
   ]
  },
  {
   "cell_type": "code",
   "execution_count": 15,
   "id": "d0aa7177",
   "metadata": {},
   "outputs": [
    {
     "name": "stdout",
     "output_type": "stream",
     "text": [
      "[[ 0.  0.  5. ...  0.  0.  0.]\n",
      " [ 0.  0.  0. ... 10.  0.  0.]\n",
      " [ 0.  0.  0. ... 16.  9.  0.]\n",
      " ...\n",
      " [ 0.  0.  1. ...  6.  0.  0.]\n",
      " [ 0.  0.  2. ... 12.  0.  0.]\n",
      " [ 0.  0. 10. ... 12.  1.  0.]]\n",
      "[0 1 2 ... 8 9 8]\n"
     ]
    }
   ],
   "source": [
    "#sepearting fearture with target\n",
    "digit_data = digits['data']\n",
    "digit_target = digits['target']\n",
    "print(digit_data)\n",
    "print(digit_target)\n"
   ]
  },
  {
   "cell_type": "code",
   "execution_count": 48,
   "id": "77e7174e",
   "metadata": {},
   "outputs": [],
   "source": [
    "#spliting train data and test data\n",
    "train_feature, test_feature, train_target, test_target = train_test_split(digit_data, \n",
    "                                                                          digit_target, \n",
    "                                                                          test_size=0.3, \n",
    "                                                                          random_state=5)"
   ]
  },
  {
   "cell_type": "code",
   "execution_count": 50,
   "id": "4704ef05",
   "metadata": {},
   "outputs": [
    {
     "name": "stdout",
     "output_type": "stream",
     "text": [
      "              precision    recall  f1-score   support\n",
      "\n",
      "           0       0.98      0.95      0.96        58\n",
      "           1       0.71      0.87      0.78        52\n",
      "           2       0.82      0.81      0.82        58\n",
      "           3       0.85      0.78      0.81        59\n",
      "           4       0.74      0.81      0.78        43\n",
      "           5       0.89      0.89      0.89        64\n",
      "           6       0.98      0.87      0.92        47\n",
      "           7       0.92      0.81      0.86        59\n",
      "           8       0.82      0.80      0.81        50\n",
      "           9       0.79      0.88      0.83        50\n",
      "\n",
      "    accuracy                           0.85       540\n",
      "   macro avg       0.85      0.85      0.85       540\n",
      "weighted avg       0.85      0.85      0.85       540\n",
      "\n"
     ]
    }
   ],
   "source": [
    "#testing for Decision-Tree Learning\n",
    "dct = DecisionTreeClassifier(random_state=100)\n",
    "dct.fit(train_feature, train_target)\n",
    "dct_predict = dct.predict(test_feature)\n",
    "print(classification_report(test_target, dct_predict))"
   ]
  },
  {
   "cell_type": "code",
   "execution_count": 33,
   "id": "3bc6fd08",
   "metadata": {},
   "outputs": [
    {
     "name": "stdout",
     "output_type": "stream",
     "text": [
      "              precision    recall  f1-score   support\n",
      "\n",
      "           0       0.98      0.99      0.99       127\n",
      "           1       0.91      0.96      0.93       135\n",
      "           2       0.95      0.93      0.94       117\n",
      "           3       0.99      0.88      0.93       128\n",
      "           4       0.98      0.98      0.98       122\n",
      "           5       0.94      0.98      0.96       132\n",
      "           6       0.99      0.98      0.98       125\n",
      "           7       0.93      0.99      0.96       120\n",
      "           8       0.89      0.87      0.88       135\n",
      "           9       0.94      0.93      0.94       117\n",
      "\n",
      "    accuracy                           0.95      1258\n",
      "   macro avg       0.95      0.95      0.95      1258\n",
      "weighted avg       0.95      0.95      0.95      1258\n",
      "\n"
     ]
    }
   ],
   "source": [
    "#testing for Random Forest\n",
    "rdf = RandomForestClassifier(random_state=100)\n",
    "rdf.fit(train_feature, train_target)\n",
    "rdf_predict = rdf.predict(test_feature)\n",
    "print(classification_report(test_target, rdf_predict))"
   ]
  },
  {
   "cell_type": "code",
   "execution_count": 51,
   "id": "01bb708c",
   "metadata": {},
   "outputs": [
    {
     "name": "stdout",
     "output_type": "stream",
     "text": [
      "              precision    recall  f1-score   support\n",
      "\n",
      "           0       1.00      1.00      1.00        58\n",
      "           1       0.98      1.00      0.99        52\n",
      "           2       1.00      1.00      1.00        58\n",
      "           3       1.00      0.97      0.98        59\n",
      "           4       1.00      1.00      1.00        43\n",
      "           5       0.97      0.98      0.98        64\n",
      "           6       1.00      1.00      1.00        47\n",
      "           7       1.00      0.98      0.99        59\n",
      "           8       0.96      0.96      0.96        50\n",
      "           9       0.94      0.96      0.95        50\n",
      "\n",
      "    accuracy                           0.99       540\n",
      "   macro avg       0.99      0.99      0.99       540\n",
      "weighted avg       0.99      0.99      0.99       540\n",
      "\n"
     ]
    }
   ],
   "source": [
    "#testing for Support Vector Machine\n",
    "sptvm = svm.SVC(random_state=100)\n",
    "sptvm.fit(train_feature, train_target)\n",
    "sptvm_predict = sptvm.predict(test_feature)\n",
    "print(classification_report(test_target, sptvm_predict))"
   ]
  },
  {
   "cell_type": "code",
   "execution_count": 52,
   "id": "cfd058a5",
   "metadata": {},
   "outputs": [
    {
     "name": "stdout",
     "output_type": "stream",
     "text": [
      "              precision    recall  f1-score   support\n",
      "\n",
      "           0       1.00      1.00      1.00        58\n",
      "           1       1.00      0.85      0.92        52\n",
      "           2       0.95      0.98      0.97        58\n",
      "           3       1.00      0.85      0.92        59\n",
      "           4       0.96      1.00      0.98        43\n",
      "           5       0.97      0.95      0.96        64\n",
      "           6       0.98      0.96      0.97        47\n",
      "           7       1.00      0.95      0.97        59\n",
      "           8       0.74      1.00      0.85        50\n",
      "           9       0.94      0.94      0.94        50\n",
      "\n",
      "    accuracy                           0.95       540\n",
      "   macro avg       0.95      0.95      0.95       540\n",
      "weighted avg       0.96      0.95      0.95       540\n",
      "\n"
     ]
    }
   ],
   "source": [
    "#testing for Stochastic Gradient Decent Classifier\n",
    "sgdc = SGDClassifier(random_state=100)\n",
    "sgdc.fit(train_feature, train_target)\n",
    "sgdc_predict = sgdc.predict(test_feature)\n",
    "print(classification_report(test_target, sgdc_predict))"
   ]
  },
  {
   "cell_type": "code",
   "execution_count": 55,
   "id": "747b733f",
   "metadata": {},
   "outputs": [
    {
     "name": "stdout",
     "output_type": "stream",
     "text": [
      "              precision    recall  f1-score   support\n",
      "\n",
      "           0       1.00      1.00      1.00        58\n",
      "           1       1.00      0.85      0.92        52\n",
      "           2       0.95      0.98      0.97        58\n",
      "           3       1.00      0.85      0.92        59\n",
      "           4       0.96      1.00      0.98        43\n",
      "           5       0.97      0.95      0.96        64\n",
      "           6       0.98      0.96      0.97        47\n",
      "           7       1.00      0.95      0.97        59\n",
      "           8       0.74      1.00      0.85        50\n",
      "           9       0.94      0.94      0.94        50\n",
      "\n",
      "    accuracy                           0.95       540\n",
      "   macro avg       0.95      0.95      0.95       540\n",
      "weighted avg       0.96      0.95      0.95       540\n",
      "\n"
     ]
    }
   ],
   "source": [
    "#testing for Logistic Regresssion\n",
    "lgr = LogisticRegression(random_state=100, max_iter=2000)\n",
    "lgr.fit(train_feature, train_target)\n",
    "lgr_predict = sgdc.predict(test_feature)\n",
    "print(classification_report(test_target, lgr_predict))"
   ]
  },
  {
   "cell_type": "markdown",
   "id": "b6ebba46",
   "metadata": {},
   "source": [
    "# conclusion\n",
    "MNIST는 0~9까지의 숫자 손글씨를 옳바르게 분류하는 벤치마킹이다\n",
    "이때, 프로그램은 주어지는 손글씨를 얼마나 정확하게 구분할 수 있는냐가 핵심사항이 된다.\n",
    "얼마나 잘못된 결과가 주어졌는지(recall)보다 손글씨를 얼마나 잘 구분했는지(precision) 정밀도가 더 중요하다.\n",
    "위의 5가지 모델링의 정밀도를 살펴보면 Support Vector Machine이 0.99으로 가장 높은 정밀도를 도출해내었다.\n",
    "정밀도(precision)와 재현률(recall)을 조합한 F1-score도 Support Vector Machine이 가장 높으므로 \n",
    "SciKit-Learn 손글씨에 가장 적합한 분류 모델은 Support Vector Machine이다."
   ]
  },
  {
   "cell_type": "code",
   "execution_count": null,
   "id": "9388bf9b",
   "metadata": {},
   "outputs": [],
   "source": []
  }
 ],
 "metadata": {
  "kernelspec": {
   "display_name": "Python 3 (ipykernel)",
   "language": "python",
   "name": "python3"
  },
  "language_info": {
   "codemirror_mode": {
    "name": "ipython",
    "version": 3
   },
   "file_extension": ".py",
   "mimetype": "text/x-python",
   "name": "python",
   "nbconvert_exporter": "python",
   "pygments_lexer": "ipython3",
   "version": "3.9.7"
  }
 },
 "nbformat": 4,
 "nbformat_minor": 5
}
