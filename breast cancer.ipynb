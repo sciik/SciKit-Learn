{
 "cells": [
  {
   "cell_type": "markdown",
   "id": "9a520581",
   "metadata": {},
   "source": [
    "# Breast Cancer"
   ]
  },
  {
   "cell_type": "code",
   "execution_count": 3,
   "id": "9fa9a2c7",
   "metadata": {},
   "outputs": [
    {
     "name": "stdout",
     "output_type": "stream",
     "text": [
      "dict_keys(['data', 'target', 'frame', 'target_names', 'DESCR', 'feature_names', 'filename', 'data_module'])\n",
      "[[1.799e+01 1.038e+01 1.228e+02 ... 2.654e-01 4.601e-01 1.189e-01]\n",
      " [2.057e+01 1.777e+01 1.329e+02 ... 1.860e-01 2.750e-01 8.902e-02]\n",
      " [1.969e+01 2.125e+01 1.300e+02 ... 2.430e-01 3.613e-01 8.758e-02]\n",
      " ...\n",
      " [1.660e+01 2.808e+01 1.083e+02 ... 1.418e-01 2.218e-01 7.820e-02]\n",
      " [2.060e+01 2.933e+01 1.401e+02 ... 2.650e-01 4.087e-01 1.240e-01]\n",
      " [7.760e+00 2.454e+01 4.792e+01 ... 0.000e+00 2.871e-01 7.039e-02]]\n",
      "['mean radius' 'mean texture' 'mean perimeter' 'mean area'\n",
      " 'mean smoothness' 'mean compactness' 'mean concavity'\n",
      " 'mean concave points' 'mean symmetry' 'mean fractal dimension'\n",
      " 'radius error' 'texture error' 'perimeter error' 'area error'\n",
      " 'smoothness error' 'compactness error' 'concavity error'\n",
      " 'concave points error' 'symmetry error' 'fractal dimension error'\n",
      " 'worst radius' 'worst texture' 'worst perimeter' 'worst area'\n",
      " 'worst smoothness' 'worst compactness' 'worst concavity'\n",
      " 'worst concave points' 'worst symmetry' 'worst fractal dimension']\n",
      "['malignant' 'benign']\n"
     ]
    }
   ],
   "source": [
    "#module import\n",
    "from sklearn.datasets import load_breast_cancer\n",
    "from sklearn.model_selection import train_test_split\n",
    "from sklearn.metrics import classification_report\n",
    "from sklearn.tree import DecisionTreeClassifier\n",
    "from sklearn.ensemble import RandomForestClassifier\n",
    "from sklearn import svm\n",
    "from sklearn.linear_model import SGDClassifier\n",
    "from sklearn.linear_model import LogisticRegression\n",
    "\n",
    "#loading data and check columns\n",
    "dataset = load_breast_cancer()\n",
    "print(dataset.keys())\n",
    "print(dataset['data'])\n",
    "print(dataset['feature_names'])\n",
    "print(dataset['target_names'])"
   ]
  },
  {
   "cell_type": "code",
   "execution_count": 4,
   "id": "3cd3793a",
   "metadata": {},
   "outputs": [
    {
     "name": "stdout",
     "output_type": "stream",
     "text": [
      "[[1.799e+01 1.038e+01 1.228e+02 ... 2.654e-01 4.601e-01 1.189e-01]\n",
      " [2.057e+01 1.777e+01 1.329e+02 ... 1.860e-01 2.750e-01 8.902e-02]\n",
      " [1.969e+01 2.125e+01 1.300e+02 ... 2.430e-01 3.613e-01 8.758e-02]\n",
      " ...\n",
      " [1.660e+01 2.808e+01 1.083e+02 ... 1.418e-01 2.218e-01 7.820e-02]\n",
      " [2.060e+01 2.933e+01 1.401e+02 ... 2.650e-01 4.087e-01 1.240e-01]\n",
      " [7.760e+00 2.454e+01 4.792e+01 ... 0.000e+00 2.871e-01 7.039e-02]]\n",
      "[0 0 0 0 0 0 0 0 0 0 0 0 0 0 0 0 0 0 0 1 1 1 0 0 0 0 0 0 0 0 0 0 0 0 0 0 0\n",
      " 1 0 0 0 0 0 0 0 0 1 0 1 1 1 1 1 0 0 1 0 0 1 1 1 1 0 1 0 0 1 1 1 1 0 1 0 0\n",
      " 1 0 1 0 0 1 1 1 0 0 1 0 0 0 1 1 1 0 1 1 0 0 1 1 1 0 0 1 1 1 1 0 1 1 0 1 1\n",
      " 1 1 1 1 1 1 0 0 0 1 0 0 1 1 1 0 0 1 0 1 0 0 1 0 0 1 1 0 1 1 0 1 1 1 1 0 1\n",
      " 1 1 1 1 1 1 1 1 0 1 1 1 1 0 0 1 0 1 1 0 0 1 1 0 0 1 1 1 1 0 1 1 0 0 0 1 0\n",
      " 1 0 1 1 1 0 1 1 0 0 1 0 0 0 0 1 0 0 0 1 0 1 0 1 1 0 1 0 0 0 0 1 1 0 0 1 1\n",
      " 1 0 1 1 1 1 1 0 0 1 1 0 1 1 0 0 1 0 1 1 1 1 0 1 1 1 1 1 0 1 0 0 0 0 0 0 0\n",
      " 0 0 0 0 0 0 0 1 1 1 1 1 1 0 1 0 1 1 0 1 1 0 1 0 0 1 1 1 1 1 1 1 1 1 1 1 1\n",
      " 1 0 1 1 0 1 0 1 1 1 1 1 1 1 1 1 1 1 1 1 1 0 1 1 1 0 1 0 1 1 1 1 0 0 0 1 1\n",
      " 1 1 0 1 0 1 0 1 1 1 0 1 1 1 1 1 1 1 0 0 0 1 1 1 1 1 1 1 1 1 1 1 0 0 1 0 0\n",
      " 0 1 0 0 1 1 1 1 1 0 1 1 1 1 1 0 1 1 1 0 1 1 0 0 1 1 1 1 1 1 0 1 1 1 1 1 1\n",
      " 1 0 1 1 1 1 1 0 1 1 0 1 1 1 1 1 1 1 1 1 1 1 1 0 1 0 0 1 0 1 1 1 1 1 0 1 1\n",
      " 0 1 0 1 1 0 1 0 1 1 1 1 1 1 1 1 0 0 1 1 1 1 1 1 0 1 1 1 1 1 1 1 1 1 1 0 1\n",
      " 1 1 1 1 1 1 0 1 0 1 1 0 1 1 1 1 1 0 0 1 0 1 0 1 1 1 1 1 0 1 1 0 1 0 1 0 0\n",
      " 1 1 1 0 1 1 1 1 1 1 1 1 1 1 1 0 1 0 0 1 1 1 1 1 1 1 1 1 1 1 1 1 1 1 1 1 1\n",
      " 1 1 1 1 1 1 1 0 0 0 0 0 0 1]\n"
     ]
    }
   ],
   "source": [
    "#sepearting fearture with target\n",
    "cancer_data = dataset['data']\n",
    "cancer_target = dataset['target']\n",
    "print(cancer_data)\n",
    "print(cancer_target)"
   ]
  },
  {
   "cell_type": "code",
   "execution_count": 13,
   "id": "5caa89ed",
   "metadata": {},
   "outputs": [],
   "source": [
    "#spliting train data and test data\n",
    "train_feature, test_feature, train_target, test_target = train_test_split(cancer_data, \n",
    "                                                                          cancer_target, \n",
    "                                                                          test_size=0.3, \n",
    "                                                                          random_state=5)"
   ]
  },
  {
   "cell_type": "code",
   "execution_count": 14,
   "id": "720d31b7",
   "metadata": {},
   "outputs": [
    {
     "name": "stdout",
     "output_type": "stream",
     "text": [
      "              precision    recall  f1-score   support\n",
      "\n",
      "           0       0.86      0.92      0.89        61\n",
      "           1       0.95      0.92      0.94       110\n",
      "\n",
      "    accuracy                           0.92       171\n",
      "   macro avg       0.91      0.92      0.91       171\n",
      "weighted avg       0.92      0.92      0.92       171\n",
      "\n"
     ]
    }
   ],
   "source": [
    "#testing for Decision-Tree Learning\n",
    "dct = DecisionTreeClassifier(random_state=100)\n",
    "dct.fit(train_feature, train_target)\n",
    "dct_predict = dct.predict(test_feature)\n",
    "print(classification_report(test_target, dct_predict))"
   ]
  },
  {
   "cell_type": "code",
   "execution_count": 15,
   "id": "fe1802a7",
   "metadata": {},
   "outputs": [
    {
     "name": "stdout",
     "output_type": "stream",
     "text": [
      "              precision    recall  f1-score   support\n",
      "\n",
      "           0       0.97      0.95      0.96        61\n",
      "           1       0.97      0.98      0.98       110\n",
      "\n",
      "    accuracy                           0.97       171\n",
      "   macro avg       0.97      0.97      0.97       171\n",
      "weighted avg       0.97      0.97      0.97       171\n",
      "\n"
     ]
    }
   ],
   "source": [
    "#testing for Random Forest\n",
    "rdf = RandomForestClassifier(random_state=100)\n",
    "rdf.fit(train_feature, train_target)\n",
    "rdf_predict = rdf.predict(test_feature)\n",
    "print(classification_report(test_target, rdf_predict))"
   ]
  },
  {
   "cell_type": "code",
   "execution_count": 16,
   "id": "0bcca968",
   "metadata": {},
   "outputs": [
    {
     "name": "stdout",
     "output_type": "stream",
     "text": [
      "              precision    recall  f1-score   support\n",
      "\n",
      "           0       1.00      0.90      0.95        61\n",
      "           1       0.95      1.00      0.97       110\n",
      "\n",
      "    accuracy                           0.96       171\n",
      "   macro avg       0.97      0.95      0.96       171\n",
      "weighted avg       0.97      0.96      0.96       171\n",
      "\n"
     ]
    }
   ],
   "source": [
    "#testing for Support Vector Machine\n",
    "sptvm = svm.SVC(random_state=100)\n",
    "sptvm.fit(train_feature, train_target)\n",
    "sptvm_predict = sptvm.predict(test_feature)\n",
    "print(classification_report(test_target, sptvm_predict))"
   ]
  },
  {
   "cell_type": "code",
   "execution_count": 17,
   "id": "05a3415a",
   "metadata": {},
   "outputs": [
    {
     "name": "stdout",
     "output_type": "stream",
     "text": [
      "              precision    recall  f1-score   support\n",
      "\n",
      "           0       0.93      0.90      0.92        61\n",
      "           1       0.95      0.96      0.95       110\n",
      "\n",
      "    accuracy                           0.94       171\n",
      "   macro avg       0.94      0.93      0.94       171\n",
      "weighted avg       0.94      0.94      0.94       171\n",
      "\n"
     ]
    }
   ],
   "source": [
    "#testing for Stochastic Gradient Decent Classifier\n",
    "sgdc = SGDClassifier(random_state=100)\n",
    "sgdc.fit(train_feature, train_target)\n",
    "sgdc_predict = sgdc.predict(test_feature)\n",
    "print(classification_report(test_target, sgdc_predict))"
   ]
  },
  {
   "cell_type": "code",
   "execution_count": 19,
   "id": "fb6a7bc4",
   "metadata": {},
   "outputs": [
    {
     "name": "stdout",
     "output_type": "stream",
     "text": [
      "              precision    recall  f1-score   support\n",
      "\n",
      "           0       0.93      0.90      0.92        61\n",
      "           1       0.95      0.96      0.95       110\n",
      "\n",
      "    accuracy                           0.94       171\n",
      "   macro avg       0.94      0.93      0.94       171\n",
      "weighted avg       0.94      0.94      0.94       171\n",
      "\n"
     ]
    }
   ],
   "source": [
    "#testing for Logistic Regresssion\n",
    "lgr = LogisticRegression(random_state=100, max_iter=3000)\n",
    "lgr.fit(train_feature, train_target)\n",
    "lgr_predict = sgdc.predict(test_feature)\n",
    "print(classification_report(test_target, lgr_predict))"
   ]
  },
  {
   "cell_type": "markdown",
   "id": "c6f36e5e",
   "metadata": {},
   "source": [
    "# Conclusion\n",
    "breast-cancer 데이터에 대해 5가지의 모델을 통해 학습시킨 결과이다. 위 데이터는 유방암에 관한 데이터임으로 target의 True(유방암 양성반응-positive)가 False(유방암 음성반응-negetive)로 결과가 도출되었을 경우 환자와 의료진에게 치명적일 수 있다. 따라서 위 데이터의 결과로 가장 중요한 것은 재현률(recall)값이다. 조금 더 자세히 살펴보면 음성반응시에 양성으로 오진하는 것은 괜찮으나 양성반응시 음성으로 오진하는 것은 매우 치명적인 진단이다. 위의 다섯가지 모델중에 재현률(recall)이 가장 높은 모델은 Random Forest이고 양성반응(target==0)일 때, 재현률(recall)이 가장 높은 것 역시 Random Forest이다.\n",
    "따라서, breast-cancer데이터에 가장 적합한 모델은 Random Forest이다."
   ]
  }
 ],
 "metadata": {
  "kernelspec": {
   "display_name": "Python 3 (ipykernel)",
   "language": "python",
   "name": "python3"
  },
  "language_info": {
   "codemirror_mode": {
    "name": "ipython",
    "version": 3
   },
   "file_extension": ".py",
   "mimetype": "text/x-python",
   "name": "python",
   "nbconvert_exporter": "python",
   "pygments_lexer": "ipython3",
   "version": "3.9.7"
  }
 },
 "nbformat": 4,
 "nbformat_minor": 5
}
